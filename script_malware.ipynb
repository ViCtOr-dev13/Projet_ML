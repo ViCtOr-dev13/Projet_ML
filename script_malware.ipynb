{
 "cells": [
  {
   "cell_type": "code",
   "execution_count": 8,
   "metadata": {},
   "outputs": [],
   "source": [
    "import pandas as pd \n",
    "import numpy as np\n",
    "\n",
    "#scikit-learn KNN\n",
    "from sklearn.neighbors import KNeighborsClassifier\n",
    "#sckit learn random forest\n",
    "from sklearn.ensemble import RandomForestClassifier\n",
    "#sckit learn recision tree\n",
    "from sklearn.tree import DecisionTreeClassifier\n",
    "\n",
    "from sklearn.model_selection import train_test_split\n",
    "from sklearn.metrics import accuracy_score\n",
    "from sklearn.metrics import confusion_matrix\n",
    "from sklearn.metrics import classification_report"
   ]
  },
  {
   "cell_type": "code",
   "execution_count": 2,
   "metadata": {},
   "outputs": [],
   "source": [
    "#import malware csv\n",
    "df_malware = pd.read_csv('FinalDataset/Malware_BestFirst.csv')\n",
    "# X and y\n",
    "X = df_malware.drop('class', axis=1)\n",
    "y = df_malware['class']"
   ]
  },
  {
   "cell_type": "code",
   "execution_count": 11,
   "metadata": {},
   "outputs": [],
   "source": [
    "#train\n",
    "X_train, X_test, y_train, y_test = train_test_split(X, y, test_size=0.2, random_state=1)\n",
    "#fit\n",
    "knn = KNeighborsClassifier(n_neighbors=3)\n",
    "knn.fit(X_train, y_train)\n",
    "#predict\n",
    "y_pred_knn = knn.predict(X_test)"
   ]
  },
  {
   "cell_type": "code",
   "execution_count": 17,
   "metadata": {},
   "outputs": [],
   "source": [
    "#RF\n",
    "rf = RandomForestClassifier(n_estimators=100, max_depth=2, random_state=1)\n",
    "rf.fit(X_train, y_train)\n",
    "y_pred_rf = rf.predict(X_test)\n"
   ]
  },
  {
   "cell_type": "code",
   "execution_count": 13,
   "metadata": {},
   "outputs": [],
   "source": [
    "#clf\n",
    "clf = DecisionTreeClassifier(random_state=1)\n",
    "clf.fit(X_train, y_train)\n",
    "y_pred_clf = clf.predict(X_test)\n"
   ]
  },
  {
   "cell_type": "code",
   "execution_count": 14,
   "metadata": {},
   "outputs": [
    {
     "name": "stdout",
     "output_type": "stream",
     "text": [
      "clf\n",
      "Accuracy:  0.9861973775017253\n",
      "Confusion Matrix:  [[1552   29]\n",
      " [  11 1306]]\n",
      "Classification Report:                precision    recall  f1-score   support\n",
      "\n",
      "      benign       0.99      0.98      0.99      1581\n",
      "     malware       0.98      0.99      0.98      1317\n",
      "\n",
      "    accuracy                           0.99      2898\n",
      "   macro avg       0.99      0.99      0.99      2898\n",
      "weighted avg       0.99      0.99      0.99      2898\n",
      "\n"
     ]
    }
   ],
   "source": [
    "print(\"clf\")\n",
    "#accuracy\n",
    "print('Accuracy: ', accuracy_score(y_test, y_pred_clf))\n",
    "#confusion matrix\n",
    "print('Confusion Matrix: ', confusion_matrix(y_test, y_pred_clf))\n",
    "#classification report\n",
    "print('Classification Report: ', classification_report(y_test, y_pred_clf))"
   ]
  },
  {
   "cell_type": "code",
   "execution_count": 15,
   "metadata": {},
   "outputs": [
    {
     "name": "stdout",
     "output_type": "stream",
     "text": [
      "knn\n",
      "Accuracy:  0.9472049689440993\n",
      "Confusion Matrix:  [[1473  108]\n",
      " [  45 1272]]\n",
      "Classification Report:                precision    recall  f1-score   support\n",
      "\n",
      "      benign       0.97      0.93      0.95      1581\n",
      "     malware       0.92      0.97      0.94      1317\n",
      "\n",
      "    accuracy                           0.95      2898\n",
      "   macro avg       0.95      0.95      0.95      2898\n",
      "weighted avg       0.95      0.95      0.95      2898\n",
      "\n"
     ]
    }
   ],
   "source": [
    "print(\"knn\")\n",
    "#accuracy\n",
    "print('Accuracy: ', accuracy_score(y_test, y_pred_knn))\n",
    "#confusion matrix\n",
    "print('Confusion Matrix: ', confusion_matrix(y_test, y_pred_knn))\n",
    "#classification report\n",
    "print('Classification Report: ', classification_report(y_test, y_pred_knn))"
   ]
  },
  {
   "cell_type": "code",
   "execution_count": 19,
   "metadata": {},
   "outputs": [
    {
     "name": "stdout",
     "output_type": "stream",
     "text": [
      "rf\n",
      "Accuracy:  0.7712215320910973\n",
      "Confusion Matrix:  [[1439  142]\n",
      " [ 521  796]]\n",
      "Classification Report:                precision    recall  f1-score   support\n",
      "\n",
      "      benign       0.73      0.91      0.81      1581\n",
      "     malware       0.85      0.60      0.71      1317\n",
      "\n",
      "    accuracy                           0.77      2898\n",
      "   macro avg       0.79      0.76      0.76      2898\n",
      "weighted avg       0.79      0.77      0.76      2898\n",
      "\n"
     ]
    }
   ],
   "source": [
    "print(\"rf\")\n",
    "#accuracy\n",
    "print('Accuracy: ', accuracy_score(y_test, y_pred_rf))\n",
    "#confusion matrix\n",
    "print('Confusion Matrix: ', confusion_matrix(y_test, y_pred_rf))\n",
    "#classification report\n",
    "print('Classification Report: ', classification_report(y_test, y_pred_rf))"
   ]
  }
 ],
 "metadata": {
  "kernelspec": {
   "display_name": "Python 3",
   "language": "python",
   "name": "python3"
  },
  "language_info": {
   "codemirror_mode": {
    "name": "ipython",
    "version": 3
   },
   "file_extension": ".py",
   "mimetype": "text/x-python",
   "name": "python",
   "nbconvert_exporter": "python",
   "pygments_lexer": "ipython3",
   "version": "3.10.10"
  },
  "orig_nbformat": 4
 },
 "nbformat": 4,
 "nbformat_minor": 2
}
