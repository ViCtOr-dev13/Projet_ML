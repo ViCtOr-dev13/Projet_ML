{
 "cells": [
  {
   "cell_type": "code",
   "execution_count": 8,
   "metadata": {},
   "outputs": [],
   "source": [
    "import pandas as pd \n",
    "import numpy as np\n",
    "\n",
    "#scikit-learn KNN\n",
    "from sklearn.neighbors import KNeighborsClassifier\n",
    "#sckit learn random forest\n",
    "from sklearn.ensemble import RandomForestClassifier\n",
    "#sckit learn decision tree\n",
    "from sklearn.tree import DecisionTreeClassifier\n",
    "\n",
    "from sklearn.model_selection import train_test_split\n",
    "from sklearn.metrics import accuracy_score\n",
    "from sklearn.metrics import confusion_matrix\n",
    "from sklearn.metrics import classification_report"
   ]
  },
  {
   "cell_type": "code",
   "execution_count": 15,
   "metadata": {},
   "outputs": [
    {
     "name": "stdout",
     "output_type": "stream",
     "text": [
      "SymbolCount_Directoryname      0\n",
      "SymbolCount_FileName           0\n",
      "SymbolCount_Extension          0\n",
      "SymbolCount_Afterpath          0\n",
      "Entropy_URL                    0\n",
      "Entropy_Domain                 0\n",
      "Entropy_Filename             195\n",
      "Entropy_Extension             31\n",
      "Entropy_Afterpath              0\n",
      "URL_Type_obf_Type              0\n",
      "dtype: int64\n",
      "<class 'pandas.core.frame.DataFrame'>\n",
      "Int64Index: 15477 entries, 1 to 15710\n",
      "Data columns (total 78 columns):\n",
      " #   Column                           Non-Null Count  Dtype  \n",
      "---  ------                           --------------  -----  \n",
      " 0   Querylength                      15477 non-null  int64  \n",
      " 1   domain_token_count               15477 non-null  int64  \n",
      " 2   path_token_count                 15477 non-null  int64  \n",
      " 3   avgdomaintokenlen                15477 non-null  float64\n",
      " 4   longdomaintokenlen               15477 non-null  int64  \n",
      " 5   avgpathtokenlen                  15477 non-null  float64\n",
      " 6   tld                              15477 non-null  int64  \n",
      " 7   charcompvowels                   15477 non-null  int64  \n",
      " 8   charcompace                      15477 non-null  int64  \n",
      " 9   ldl_url                          15477 non-null  int64  \n",
      " 10  ldl_domain                       15477 non-null  int64  \n",
      " 11  ldl_path                         15477 non-null  int64  \n",
      " 12  ldl_filename                     15477 non-null  int64  \n",
      " 13  ldl_getArg                       15477 non-null  int64  \n",
      " 14  dld_url                          15477 non-null  int64  \n",
      " 15  dld_domain                       15477 non-null  int64  \n",
      " 16  dld_path                         15477 non-null  int64  \n",
      " 17  dld_filename                     15477 non-null  int64  \n",
      " 18  dld_getArg                       15477 non-null  int64  \n",
      " 19  urlLen                           15477 non-null  int64  \n",
      " 20  domainlength                     15477 non-null  int64  \n",
      " 21  pathLength                       15477 non-null  int64  \n",
      " 22  subDirLen                        15477 non-null  int64  \n",
      " 23  fileNameLen                      15477 non-null  int64  \n",
      " 24  this.fileExtLen                  15477 non-null  int64  \n",
      " 25  ArgLen                           15477 non-null  int64  \n",
      " 26  pathurlRatio                     15477 non-null  float64\n",
      " 27  ArgUrlRatio                      15477 non-null  float64\n",
      " 28  argDomanRatio                    15477 non-null  float64\n",
      " 29  domainUrlRatio                   15477 non-null  float64\n",
      " 30  pathDomainRatio                  15477 non-null  float64\n",
      " 31  argPathRatio                     15477 non-null  float64\n",
      " 32  executable                       15477 non-null  int64  \n",
      " 33  isPortEighty                     15477 non-null  int64  \n",
      " 34  NumberofDotsinURL                15477 non-null  int64  \n",
      " 35  ISIpAddressInDomainName          15477 non-null  int64  \n",
      " 36  CharacterContinuityRate          15477 non-null  float64\n",
      " 37  LongestVariableValue             15477 non-null  int64  \n",
      " 38  URL_DigitCount                   15477 non-null  int64  \n",
      " 39  host_DigitCount                  15477 non-null  int64  \n",
      " 40  Directory_DigitCount             15477 non-null  int64  \n",
      " 41  File_name_DigitCount             15477 non-null  int64  \n",
      " 42  Extension_DigitCount             15477 non-null  int64  \n",
      " 43  Query_DigitCount                 15477 non-null  int64  \n",
      " 44  URL_Letter_Count                 15477 non-null  int64  \n",
      " 45  host_letter_count                15477 non-null  int64  \n",
      " 46  Directory_LetterCount            15477 non-null  int64  \n",
      " 47  Filename_LetterCount             15477 non-null  int64  \n",
      " 48  Extension_LetterCount            15477 non-null  int64  \n",
      " 49  Query_LetterCount                15477 non-null  int64  \n",
      " 50  LongestPathTokenLength           15477 non-null  int64  \n",
      " 51  Domain_LongestWordLength         15477 non-null  int64  \n",
      " 52  Path_LongestWordLength           15477 non-null  int64  \n",
      " 53  sub-Directory_LongestWordLength  15477 non-null  int64  \n",
      " 54  Arguments_LongestWordLength      15477 non-null  int64  \n",
      " 55  URL_sensitiveWord                15477 non-null  int64  \n",
      " 56  URLQueries_variable              15477 non-null  int64  \n",
      " 57  spcharUrl                        15477 non-null  int64  \n",
      " 58  delimeter_Domain                 15477 non-null  int64  \n",
      " 59  delimeter_path                   15477 non-null  int64  \n",
      " 60  delimeter_Count                  15477 non-null  int64  \n",
      " 61  NumberRate_URL                   15477 non-null  float64\n",
      " 62  NumberRate_Domain                15477 non-null  float64\n",
      " 63  NumberRate_DirectoryName         15477 non-null  float64\n",
      " 64  NumberRate_FileName              15477 non-null  float64\n",
      " 65  NumberRate_AfterPath             15477 non-null  float64\n",
      " 66  SymbolCount_URL                  15477 non-null  int64  \n",
      " 67  SymbolCount_Domain               15477 non-null  int64  \n",
      " 68  SymbolCount_Directoryname        15477 non-null  int64  \n",
      " 69  SymbolCount_FileName             15477 non-null  int64  \n",
      " 70  SymbolCount_Extension            15477 non-null  int64  \n",
      " 71  SymbolCount_Afterpath            15477 non-null  int64  \n",
      " 72  Entropy_URL                      15477 non-null  float64\n",
      " 73  Entropy_Domain                   15477 non-null  float64\n",
      " 74  Entropy_Filename                 15477 non-null  float64\n",
      " 75  Entropy_Extension                15477 non-null  float64\n",
      " 76  Entropy_Afterpath                15477 non-null  float64\n",
      " 77  URL_Type_obf_Type                15477 non-null  int64  \n",
      "dtypes: float64(19), int64(59)\n",
      "memory usage: 9.3 MB\n",
      "None\n"
     ]
    }
   ],
   "source": [
    "\n",
    "#import Defacement csv\n",
    "df_Defacement = pd.read_csv('FinalDataset/Defacement.csv')\n",
    "df_Defacement[\"URL_Type_obf_Type\"] = df_Defacement[\"URL_Type_obf_Type\"].replace(['benign'], 1)\n",
    "df_Defacement[\"URL_Type_obf_Type\"] = df_Defacement[\"URL_Type_obf_Type\"].replace(['Defacement'], 0)\n",
    "#change NaN value by O\n",
    "#df_Defacement.fillna(0, inplace=True)\n",
    "#compter le nombre de ligne contenant NaN\n",
    "df_Defacement=df_Defacement.drop('Entropy_DirectoryName', axis=1)\n",
    "#drop la clonne NumberRate_Extension\n",
    "df_Defacement=df_Defacement.drop('NumberRate_Extension', axis=1)\n",
    "print(df_Defacement.isnull().sum().tail(10))\n",
    "df_Defacement.dropna(inplace = True)\n",
    "print(df_Defacement.info())\n",
    "# X and y\n",
    "X = df_Defacement.drop('URL_Type_obf_Type', axis=1)\n",
    "y = df_Defacement['URL_Type_obf_Type']"
   ]
  },
  {
   "cell_type": "code",
   "execution_count": null,
   "metadata": {},
   "outputs": [],
   "source": []
  },
  {
   "cell_type": "code",
   "execution_count": 16,
   "metadata": {},
   "outputs": [],
   "source": [
    "#train\n",
    "X_train, X_test, y_train, y_test = train_test_split(X, y, test_size=0.2, random_state=1)\n",
    "#fit\n",
    "knn = KNeighborsClassifier(n_neighbors=3)\n",
    "knn.fit(X_train, y_train)\n",
    "#predict\n",
    "y_pred_knn = knn.predict(X_test)"
   ]
  },
  {
   "cell_type": "code",
   "execution_count": 17,
   "metadata": {},
   "outputs": [],
   "source": [
    "#RF\n",
    "rf = RandomForestClassifier(n_estimators=100, max_depth=2, random_state=1)\n",
    "rf.fit(X_train, y_train)\n",
    "y_pred_rf = rf.predict(X_test)\n"
   ]
  },
  {
   "cell_type": "code",
   "execution_count": 18,
   "metadata": {},
   "outputs": [],
   "source": [
    "#clf\n",
    "clf = DecisionTreeClassifier(random_state=1)\n",
    "clf.fit(X_train, y_train)\n",
    "y_pred_clf = clf.predict(X_test)\n"
   ]
  },
  {
   "cell_type": "code",
   "execution_count": 19,
   "metadata": {},
   "outputs": [
    {
     "name": "stdout",
     "output_type": "stream",
     "text": [
      "C4.5\n",
      "Accuracy:  0.9941860465116279\n",
      "Confusion Matrix:  [[1533   10]\n",
      " [   8 1545]]\n",
      "Classification Report:                precision    recall  f1-score   support\n",
      "\n",
      "           0       0.99      0.99      0.99      1543\n",
      "           1       0.99      0.99      0.99      1553\n",
      "\n",
      "    accuracy                           0.99      3096\n",
      "   macro avg       0.99      0.99      0.99      3096\n",
      "weighted avg       0.99      0.99      0.99      3096\n",
      "\n"
     ]
    }
   ],
   "source": [
    "print(\"C4.5\")\n",
    "#accuracy\n",
    "print('Accuracy: ', accuracy_score(y_test, y_pred_clf))\n",
    "#confusion matrix\n",
    "print('Confusion Matrix: ', confusion_matrix(y_test, y_pred_clf))\n",
    "#classification report\n",
    "print('Classification Report: ', classification_report(y_test, y_pred_clf))"
   ]
  },
  {
   "cell_type": "code",
   "execution_count": 20,
   "metadata": {},
   "outputs": [
    {
     "name": "stdout",
     "output_type": "stream",
     "text": [
      "knn\n",
      "Accuracy:  0.9870801033591732\n",
      "Confusion Matrix:  [[1526   17]\n",
      " [  23 1530]]\n",
      "Classification Report:                precision    recall  f1-score   support\n",
      "\n",
      "           0       0.99      0.99      0.99      1543\n",
      "           1       0.99      0.99      0.99      1553\n",
      "\n",
      "    accuracy                           0.99      3096\n",
      "   macro avg       0.99      0.99      0.99      3096\n",
      "weighted avg       0.99      0.99      0.99      3096\n",
      "\n"
     ]
    }
   ],
   "source": [
    "print(\"knn\")\n",
    "#accuracy\n",
    "print('Accuracy: ', accuracy_score(y_test, y_pred_knn))\n",
    "#confusion matrix\n",
    "print('Confusion Matrix: ', confusion_matrix(y_test, y_pred_knn))\n",
    "#classification report\n",
    "print('Classification Report: ', classification_report(y_test, y_pred_knn))"
   ]
  },
  {
   "cell_type": "code",
   "execution_count": 21,
   "metadata": {},
   "outputs": [
    {
     "name": "stdout",
     "output_type": "stream",
     "text": [
      "rf\n",
      "Accuracy:  0.9308785529715762\n",
      "Confusion Matrix:  [[1454   89]\n",
      " [ 125 1428]]\n",
      "Classification Report:                precision    recall  f1-score   support\n",
      "\n",
      "           0       0.92      0.94      0.93      1543\n",
      "           1       0.94      0.92      0.93      1553\n",
      "\n",
      "    accuracy                           0.93      3096\n",
      "   macro avg       0.93      0.93      0.93      3096\n",
      "weighted avg       0.93      0.93      0.93      3096\n",
      "\n"
     ]
    }
   ],
   "source": [
    "print(\"rf\")\n",
    "#accuracy\n",
    "print('Accuracy: ', accuracy_score(y_test, y_pred_rf))\n",
    "#confusion matrix\n",
    "print('Confusion Matrix: ', confusion_matrix(y_test, y_pred_rf))\n",
    "#classification report\n",
    "print('Classification Report: ', classification_report(y_test, y_pred_rf))"
   ]
  }
 ],
 "metadata": {
  "kernelspec": {
   "display_name": "Python 3",
   "language": "python",
   "name": "python3"
  },
  "language_info": {
   "codemirror_mode": {
    "name": "ipython",
    "version": 3
   },
   "file_extension": ".py",
   "mimetype": "text/x-python",
   "name": "python",
   "nbconvert_exporter": "python",
   "pygments_lexer": "ipython3",
   "version": "3.10.10"
  },
  "orig_nbformat": 4
 },
 "nbformat": 4,
 "nbformat_minor": 2
}
